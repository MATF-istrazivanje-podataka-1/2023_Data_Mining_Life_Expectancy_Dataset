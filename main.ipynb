{
  "cells": [
    {
      "cell_type": "markdown",
      "metadata": {
        "id": "view-in-github",
        "colab_type": "text"
      },
      "source": [
        "<a href=\"https://colab.research.google.com/github/MATF-istrazivanje-podataka-1/2023_Data_Mining_Life_Expectancy_Dataset/blob/main/main.ipynb\" target=\"_parent\"><img src=\"https://colab.research.google.com/assets/colab-badge.svg\" alt=\"Open In Colab\"/></a>"
      ]
    },
    {
      "cell_type": "code",
      "execution_count": null,
      "metadata": {
        "colab": {
          "base_uri": "https://localhost:8080/"
        },
        "id": "QXmRuWBRdjuJ",
        "outputId": "62828b37-faed-4423-a030-9658062aac90"
      },
      "outputs": [
        {
          "name": "stdout",
          "output_type": "stream",
          "text": [
            "Mounted at /content/drive\n"
          ]
        }
      ],
      "source": [
        "from google.colab import drive\n",
        "drive.mount('/content/drive')"
      ]
    },
    {
      "cell_type": "code",
      "execution_count": null,
      "metadata": {
        "id": "zaIR_4PudtmL"
      },
      "outputs": [],
      "source": [
        "import os\n",
        "os.chdir('/content/drive/MyDrive/RIProject')"
      ]
    },
    {
      "cell_type": "code",
      "execution_count": null,
      "metadata": {
        "id": "SXUwtfV4dwMb"
      },
      "outputs": [],
      "source": [
        "import config as cfg\n",
        "from dataset import TextImageDataset\n",
        "from stage1 import GANTrainer_stage1"
      ]
    },
    {
      "cell_type": "code",
      "execution_count": null,
      "metadata": {
        "id": "HhOIhPNhUUJ2"
      },
      "outputs": [],
      "source": [
        "import torchvision.transforms as transforms\n",
        "from torch.utils.data import DataLoader"
      ]
    },
    {
      "cell_type": "code",
      "execution_count": null,
      "metadata": {
        "id": "k3Z6PjUKaTuH"
      },
      "outputs": [],
      "source": [
        "class Args:\n",
        "    train = 'y'\n",
        "    stage = 1\n",
        "\n",
        "if Args.stage == 1:\n",
        "    cfg.IMG_SIZE = 64\n",
        "else:\n",
        "    cfg.IMG_SIZE = 256\n",
        "cfg.STAGE = Args.stage\n",
        "if Args.train == \"y\":\n",
        "    cfg.TRAIN = True\n",
        "else:\n",
        "    cfg.NET_G = \"../data/birds/models/netG_epoch_360.pth\"\n",
        "    cfg.TRAIN = False\n",
        "\n",
        "output_dir = '../output/birds'"
      ]
    },
    {
      "cell_type": "code",
      "execution_count": null,
      "metadata": {
        "id": "ddsVitDTRDV2"
      },
      "outputs": [],
      "source": [
        "def train():\n",
        "  image_transform = transforms.Compose([\n",
        "      transforms.RandomResizedCrop(cfg.IMG_SIZE),  # Randomly crop and resize the image\n",
        "      transforms.RandomHorizontalFlip(),         # Randomly flip the image horizontally\n",
        "      transforms.ColorJitter(),                  # Randomly adjust brightness, contrast, saturation, and hue\n",
        "      transforms.ToTensor(),                     # Convert the image to a PyTorch tensor\n",
        "      transforms.Normalize((0.5, 0.5, 0.5), (0.5, 0.5, 0.5))  # Normalize the image\n",
        "  ])\n",
        "  dataset = TextImageDataset(cfg.DATA_DIR, 'train', input_transform=image_transform)\n",
        "\n",
        "  dataloader = DataLoader(dataset, batch_size=cfg.TRAIN_BATCH_SIZE, drop_last=True, shuffle=True)\n",
        "\n",
        "  trainer = GANTrainer_stage1(output_dir)\n",
        "  trainer.train(dataloader)"
      ]
    },
    {
      "cell_type": "code",
      "execution_count": null,
      "metadata": {
        "id": "jqMVmWdsRLSD"
      },
      "outputs": [],
      "source": [
        "def test():\n",
        "  # TODO\n",
        "  pass"
      ]
    },
    {
      "cell_type": "code",
      "execution_count": null,
      "metadata": {
        "id": "-e2VLo2HcCto"
      },
      "outputs": [],
      "source": [
        "def main():\n",
        "\n",
        "  if Args.train == 0:\n",
        "    cfg.TRAIN = False  # True by default (train)\n",
        "    # todo: test\n",
        "    #cfg.NET_G = \"?\"  # NET_G -> pre-trained model:\n",
        "  else:\n",
        "    cfg.TRAIN = True\n",
        "\n",
        "  if Args.stage == 1:\n",
        "    cfg.IMG_SIZE = 64\n",
        "    cfg.STAGE = 1\n",
        "  else :\n",
        "    cfg.IMG_SIZE = 256\n",
        "    cfg.STAGE = 2\n",
        "\n",
        "  output_dir = '../output/birds'\n",
        "\n",
        "\n",
        "\n",
        "  if cfg.TRAIN:\n",
        "    train()\n",
        "  # else:\n",
        "  #   test()\n"
      ]
    },
    {
      "cell_type": "code",
      "execution_count": null,
      "metadata": {
        "colab": {
          "background_save": true,
          "base_uri": "https://localhost:8080/"
        },
        "id": "OAogAIgN8CXF",
        "outputId": "d13d3b71-14c6-42ec-c38a-7e6a4878448d"
      },
      "outputs": [
        {
          "metadata": {
            "tags": null
          },
          "name": "stdout",
          "output_type": "stream",
          "text": [
            "Save G/D models\n",
            "Save G/D models\n",
            "Save G/D models\n",
            "Save G/D models\n",
            "Save G/D models\n",
            "Save G/D models\n",
            "Save G/D models\n",
            "Save G/D models\n",
            "Save G/D models\n",
            "Save G/D models\n",
            "Save G/D models\n",
            "Save G/D models\n",
            "Save G/D models\n",
            "Save G/D models\n",
            "Save G/D models\n",
            "Save G/D models\n",
            "Save G/D models\n",
            "Save G/D models\n",
            "Save G/D models\n",
            "Save G/D models\n",
            "Save G/D models\n",
            "Save G/D models\n",
            "Save G/D models\n",
            "Save G/D models\n",
            "Save G/D models\n",
            "Save G/D models\n",
            "Save G/D models\n"
          ]
        }
      ],
      "source": [
        "main()"
      ]
    },
    {
      "cell_type": "code",
      "execution_count": null,
      "metadata": {
        "id": "_nNU0WRqA59T"
      },
      "outputs": [],
      "source": []
    }
  ],
  "metadata": {
    "accelerator": "GPU",
    "colab": {
      "gpuType": "T4",
      "provenance": [],
      "authorship_tag": "ABX9TyPzGou/t9S+qKWSKn3zdsJ7",
      "include_colab_link": true
    },
    "kernelspec": {
      "display_name": "Python 3",
      "name": "python3"
    },
    "language_info": {
      "name": "python"
    }
  },
  "nbformat": 4,
  "nbformat_minor": 0
}